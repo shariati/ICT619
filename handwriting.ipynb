{
 "cells": [
  {
   "cell_type": "code",
   "execution_count": 1,
   "id": "b39ab33a",
   "metadata": {},
   "outputs": [],
   "source": [
    "import tensorflow as tf"
   ]
  },
  {
   "cell_type": "markdown",
   "id": "56f3859d",
   "metadata": {},
   "source": [
    "# Handwritten DIGITalization \n",
    "\n",
    "We used TensorFlow, an open-source software library and ‘MNIST’ data set adapted from\n",
    "Homepage: http://yann.lecun.com/exdb/mnist/\n",
    "\n",
    "| Split | Example |\n",
    "|-|-|\n",
    "|test|10,000|\n",
    "|train|60,000|\n"
   ]
  },
  {
   "cell_type": "code",
   "execution_count": 2,
   "id": "0908ceba",
   "metadata": {},
   "outputs": [],
   "source": [
    "handDigitalizationDataset = tf.keras.datasets.mnist"
   ]
  },
  {
   "cell_type": "markdown",
   "id": "165616e7",
   "metadata": {},
   "source": [
    "The `handDigitalizationDataset` contains data of handwritten characters based on a 28x28 pixels images of 0 to 9 as shown below\n",
    "![28x28 pixels images of 0 to 9](./img/mnist-3.0.1.png \"28x28 pixels images of 0 to 9\")"
   ]
  },
  {
   "cell_type": "markdown",
   "id": "874b8006",
   "metadata": {},
   "source": [
    "# Spliting the Data\n",
    "`handDigitalizationDataset` will be devided to two groups of `test` and `train` data.\n",
    "\n",
    "As we are dealing with a two diementional data (rows and columns) so we have to create two sets of test and train data for each diemention.\n",
    "We know that each row contains image data and each column contains the label (value).\n",
    "for train data we have created `image_train` and `label_train` and for test data `image_test` and `label_test`.\n",
    "\n",
    "**_NOTE:_** Testing should never be part of training data since it will assist us to validate the performance of our neural network design"
   ]
  },
  {
   "cell_type": "code",
   "execution_count": 3,
   "id": "7357f59d",
   "metadata": {},
   "outputs": [],
   "source": [
    "(image_train, label_train), (image_test, label_test) = handDigitalizationDataset.load_data()"
   ]
  },
  {
   "cell_type": "markdown",
   "id": "483c93a7",
   "metadata": {},
   "source": [
    "To verify the data dimension, we may use the `shape` command, which is a tuple that always provides the array's dimensions."
   ]
  },
  {
   "cell_type": "code",
   "execution_count": 4,
   "id": "92020e7a",
   "metadata": {},
   "outputs": [
    {
     "data": {
      "text/plain": [
       "(60000, 28, 28)"
      ]
     },
     "execution_count": 4,
     "metadata": {},
     "output_type": "execute_result"
    }
   ],
   "source": [
    "image_train.shape"
   ]
  },
  {
   "cell_type": "markdown",
   "id": "3ad84e9e",
   "metadata": {},
   "source": [
    "# Loading Image Library\n",
    "To plot the images in the dataset we rely on `matplotlib.pyplot` library."
   ]
  },
  {
   "cell_type": "code",
   "execution_count": 5,
   "id": "591e7e52",
   "metadata": {},
   "outputs": [
    {
     "data": {
      "image/png": "[encoded data removed]",
      "text/plain": [
       "<Figure size 432x288 with 1 Axes>"
      ]
     },
     "metadata": {
      "needs_background": "light"
     },
     "output_type": "display_data"
    }
   ],
   "source": [
    "import matplotlib.pyplot as plot\n",
    "plot.imshow(image_train[0])\n",
    "plot.show()"
   ]
  },
  {
   "cell_type": "markdown",
   "id": "394a6fb5",
   "metadata": {},
   "source": [
    "## The image matrix\n",
    "We can see that the image data in the dataset are consist of colored image \n",
    "\n",
    "![colored one](./img/one-color.png \"colored one\")\n",
    "\n",
    "The data for each image is made of a matrix of 28 x 28 \n",
    "| 0 | 0 | 0 | 0 | 0 | 0 | 0 | 0 | 0 | 0 | 0 | 0 | 0 | 0 | 0 | 0 | 0 | 0 | 0 | 0 | 0 | 0 | 0 | 0 |\n",
    "| - | - | - | - | - | - | - | - | - | - | - | - | - | - | - | - | - | - | - | - | - | - | - | - |\n",
    "| 0 | 0 | 0 | 0 | 0 | 0 | 0 | 0 | 0 | 0 | 1 | 1 | 0 | 0 | 0 | 0 | 0 | 0 | 0 | 0 | 0 | 0 | 0 | 0 |\n",
    "| 0 | 0 | 0 | 0 | 0 | 0 | 0 | 0 | 0 | 0 | 1 | 1 | 0 | 0 | 0 | 0 | 0 | 0 | 0 | 0 | 0 | 0 | 0 | 0 |\n",
    "| 0 | 0 | 0 | 0 | 0 | 0 | 0 | 0 | 0 | 1 | 1 | 0 | 0 | 0 | 0 | 0 | 0 | 0 | 0 | 0 | 0 | 0 | 0 | 0 |\n",
    "| 0 | 0 | 0 | 0 | 0 | 0 | 0 | 0 | 0 | 1 | 1 | 0 | 0 | 0 | 0 | 0 | 0 | 0 | 0 | 0 | 0 | 0 | 0 | 0 |\n",
    "| 0 | 0 | 0 | 0 | 0 | 0 | 0 | 0 | 0 | 1 | 1 | 0 | 0 | 0 | 0 | 0 | 0 | 0 | 0 | 0 | 0 | 0 | 0 | 0 |\n",
    "| 0 | 0 | 0 | 0 | 0 | 0 | 0 | 0 | 0 | 1 | 1 | 0 | 0 | 0 | 0 | 0 | 0 | 0 | 0 | 0 | 0 | 0 | 0 | 0 |\n",
    "| 0 | 0 | 0 | 0 | 0 | 0 | 0 | 0 | 1 | 1 | 0 | 0 | 0 | 0 | 0 | 0 | 0 | 0 | 0 | 0 | 0 | 0 | 0 | 0 |\n",
    "| 0 | 0 | 0 | 0 | 0 | 0 | 0 | 0 | 1 | 1 | 0 | 0 | 0 | 0 | 0 | 0 | 0 | 0 | 0 | 0 | 0 | 0 | 0 | 0 |\n",
    "| 0 | 0 | 0 | 0 | 0 | 0 | 0 | 0 | 1 | 1 | 0 | 0 | 0 | 0 | 0 | 0 | 0 | 0 | 0 | 0 | 0 | 0 | 0 | 0 |\n",
    "| 0 | 0 | 0 | 0 | 0 | 0 | 0 | 0 | 1 | 1 | 0 | 0 | 0 | 0 | 0 | 0 | 0 | 0 | 0 | 0 | 0 | 0 | 0 | 0 |\n",
    "| 0 | 0 | 0 | 0 | 0 | 0 | 0 | 0 | 1 | 1 | 0 | 0 | 0 | 0 | 0 | 0 | 0 | 0 | 0 | 0 | 0 | 0 | 0 | 0 |\n",
    "| 0 | 0 | 0 | 0 | 0 | 0 | 0 | 0 | 1 | 1 | 0 | 0 | 0 | 0 | 0 | 0 | 0 | 0 | 0 | 0 | 0 | 0 | 0 | 0 |\n",
    "| 0 | 0 | 0 | 0 | 0 | 0 | 0 | 0 | 1 | 1 | 0 | 0 | 0 | 0 | 0 | 0 | 0 | 0 | 0 | 0 | 0 | 0 | 0 | 0 |\n",
    "| 0 | 0 | 0 | 0 | 0 | 0 | 0 | 0 | 1 | 1 | 0 | 0 | 0 | 0 | 0 | 0 | 0 | 0 | 0 | 0 | 0 | 0 | 0 | 0 |\n",
    "| 0 | 0 | 0 | 0 | 0 | 0 | 0 | 0 | 1 | 1 | 0 | 0 | 0 | 0 | 0 | 0 | 0 | 0 | 0 | 0 | 0 | 0 | 0 | 0 |\n",
    "| 0 | 0 | 0 | 0 | 0 | 0 | 0 | 0 | 1 | 1 | 0 | 0 | 0 | 0 | 0 | 0 | 0 | 0 | 0 | 0 | 0 | 0 | 0 | 0 |\n",
    "| 0 | 0 | 0 | 0 | 0 | 0 | 0 | 0 | 1 | 0 | 0 | 0 | 0 | 0 | 0 | 0 | 0 | 0 | 0 | 0 | 0 | 0 | 0 | 0 |\n",
    "| 0 | 0 | 0 | 0 | 0 | 0 | 0 | 1 | 1 | 0 | 0 | 0 | 0 | 0 | 0 | 0 | 0 | 0 | 0 | 0 | 0 | 0 | 0 | 0 |\n",
    "| 0 | 0 | 0 | 0 | 0 | 0 | 0 | 1 | 1 | 0 | 0 | 0 | 0 | 0 | 0 | 0 | 0 | 0 | 0 | 0 | 0 | 0 | 0 | 0 |\n",
    "| 0 | 0 | 0 | 0 | 0 | 0 | 0 | 1 | 1 | 0 | 0 | 0 | 0 | 0 | 0 | 0 | 0 | 0 | 0 | 0 | 0 | 0 | 0 | 0 |\n",
    "| 0 | 0 | 0 | 0 | 0 | 0 | 0 | 1 | 1 | 0 | 0 | 0 | 0 | 0 | 0 | 0 | 0 | 0 | 0 | 0 | 0 | 0 | 0 | 0 |\n",
    "| 0 | 0 | 0 | 0 | 0 | 0 | 0 | 1 | 1 | 0 | 0 | 0 | 0 | 0 | 0 | 0 | 0 | 0 | 0 | 0 | 0 | 0 | 0 | 0 |\n",
    "| 0 | 0 | 0 | 0 | 0 | 0 | 0 | 1 | 1 | 0 | 0 | 0 | 0 | 0 | 0 | 0 | 0 | 0 | 0 | 0 | 0 | 0 | 0 | 0 |\n",
    "| 0 | 0 | 0 | 0 | 0 | 0 | 0 | 1 | 1 | 0 | 0 | 0 | 0 | 0 | 0 | 0 | 0 | 0 | 0 | 0 | 0 | 0 | 0 | 0 |\n",
    "| 0 | 0 | 0 | 0 | 0 | 0 | 0 | 1 | 1 | 0 | 0 | 0 | 0 | 0 | 0 | 0 | 0 | 0 | 0 | 0 | 0 | 0 | 0 | 0 |\n",
    "| 0 | 0 | 0 | 0 | 0 | 0 | 0 | 0 | 0 | 0 | 0 | 0 | 0 | 0 | 0 | 0 | 0 | 0 | 0 | 0 | 0 | 0 | 0 | 0 |\n",
    "| 0 | 0 | 0 | 0 | 0 | 0 | 0 | 0 | 0 | 0 | 0 | 0 | 0 | 0 | 0 | 0 | 0 | 0 | 0 | 0 | 0 | 0 | 0 | 0 |\n",
    "\n",
    "so as shown above we have an X and Y rows and columns with data of 0 to 255 in it.\n",
    "Now to achieve such data we must ensure that the image is in binary color (Black and White)\n",
    "this can be achieved using the `cmap= plot.cm.binary` property in `imshow` method.\n",
    "\n",
    "**_NOTE:_** `cm.binary` inverses the color so all black pixels are changed to white and vice versa.\n",
    "\n",
    "![gray one](./img/one-gray.png \"gray one\")\n"
   ]
  },
  {
   "cell_type": "code",
   "execution_count": 6,
   "id": "fa756f28",
   "metadata": {},
   "outputs": [
    {
     "data": {
      "text/plain": [
       "<matplotlib.image.AxesImage at 0x169076100>"
      ]
     },
     "execution_count": 6,
     "metadata": {},
     "output_type": "execute_result"
    },
    {
     "data": {
      "image/png": "[encoded data removed]",
      "text/plain": [
       "<Figure size 432x288 with 1 Axes>"
      ]
     },
     "metadata": {
      "needs_background": "light"
     },
     "output_type": "display_data"
    }
   ],
   "source": [
    "plot.imshow(image_train[0], cmap= plot.cm.binary)"
   ]
  },
  {
   "cell_type": "markdown",
   "id": "b4f8a6d4",
   "metadata": {},
   "source": [
    "# Read pixel data\n",
    "Now we need to check the value of each pixel in the matrix the closer it is to 255 it will be white and the closer to 0 it will be black\n",
    "By looking at `print` result we can see that some pixels are white (255), some are black (0) and some are gray \n",
    "| 0 | 0 | 0 | 0 | 0 | 0 | 0 | 0 | 0 | 0 | 0 | 0 | 0 | 0 | 0 | 0 | 0 | 0 | 0 | 0 | 0 | 0 | 0 | 0 |\n",
    "| - | - | - | - | - | - | - | - | - | - | - | - | - | - | - | - | - | - | - | - | - | - | - | - |\n",
    "|0|0|0|0|0|0|0|0|0|0|0|0|0|0|0|0|0|0|0|0|0|0|0|0|0|0|0|0|\n",
    "|0|0|0|0|0|0|0|0|0|0|0|0|0|0|0|0|0|0|0|0|0|0|0|0|0|0|0|0|\n",
    "|0|0|0|0|0|0|0|0|0|0|0|0|0|0|0|0|0|0|0|0|0|0|0|0|0|0|0|0|\n",
    "|0|0|0|0|0|0|0|0|0|0|0|0|0|0|0|0|0|0|0|0|0|0|0|0|0|0|0|0|\n",
    "|0|0|0|0|0|0|0|0|0|0|0|0|0|0|0|0|0|0|124|253|255|63|0|0|0|0|0|0|\n",
    "|0|0|0|0|0|0|0|0|0|0|0|0|0|0|0|0|0|96|244|251|253|62|0|0|0|0|0|0|\n",
    "|0|0|0|0|0|0|0|0|0|0|0|0|0|0|0|0|0|127|251|251|253|62|0|0|0|0|0|0|\n",
    "|0|0|0|0|0|0|0|0|0|0|0|0|0|0|0|0|68|236|251|211|31|8|0|0|0|0|0|0|\n",
    "|0|0|0|0|0|0|0|0|0|0|0|0|0|0|0|60|228|251|251|94|0|0|0|0|0|0|0|0|\n",
    "|0|0|0|0|0|0|0|0|0|0|0|0|0|0|0|155|253|253|189|0|0|0|0|0|0|0|0|0|\n",
    "|0|0|0|0|0|0|0|0|0|0|0|0|0|0|20|253|251|235|66|0|0|0|0|0|0|0|0|0|\n",
    "|0|0|0|0|0|0|0|0|0|0|0|0|0|32|205|253|251|126|0|0|0|0|0|0|0|0|0|0|\n",
    "|0|0|0|0|0|0|0|0|0|0|0|0|0|104|251|253|184|15|0|0|0|0|0|0|0|0|0|0|\n",
    "|0|0|0|0|0|0|0|0|0|0|0|0|80|240|251|193|23|0|0|0|0|0|0|0|0|0|0|0|\n",
    "|0|0|0|0|0|0|0|0|0|0|0|32|253|253|253|159|0|0|0|0|0|0|0|0|0|0|0|0|\n",
    "|0|0|0|0|0|0|0|0|0|0|0|151|251|251|251|39|0|0|0|0|0|0|0|0|0|0|0|0|\n",
    "|0|0|0|0|0|0|0|0|0|0|48|221|251|251|172|0|0|0|0|0|0|0|0|0|0|0|0|0|\n",
    "|0|0|0|0|0|0|0|0|0|0|234|251|251|196|12|0|0|0|0|0|0|0|0|0|0|0|0|0|\n",
    "|0|0|0|0|0|0|0|0|0|0|253|251|251|89|0|0|0|0|0|0|0|0|0|0|0|0|0|0|\n",
    "|0|0|0|0|0|0|0|0|0|159|255|253|253|31|0|0|0|0|0|0|0|0|0|0|0|0|0|0|\n",
    "|0|0|0|0|0|0|0|0|48|228|253|247|140|8|0|0|0|0|0|0|0|0|0|0|0|0|0|0|\n",
    "|0|0|0|0|0|0|0|0|64|251|253|220|0|0|0|0|0|0|0|0|0|0|0|0|0|0|0|0|\n",
    "|0|0|0|0|0|0|0|0|64|251|253|220|0|0|0|0|0|0|0|0|0|0|0|0|0|0|0|0|\n",
    "|0|0|0|0|0|0|0|0|24|193|253|220|0|0|0|0|0|0|0|0|0|0|0|0|0|0|0|0|\n",
    "|0|0|0|0|0|0|0|0|0|0|0|0|0|0|0|0|0|0|0|0|0|0|0|0|0|0|0|0|\n",
    "|0|0|0|0|0|0|0|0|0|0|0|0|0|0|0|0|0|0|0|0|0|0|0|0|0|0|0|0|\n",
    "|0|0|0|0|0|0|0|0|0|0|0|0|0|0|0|0|0|0|0|0|0|0|0|0|0|0|0|0|"
   ]
  },
  {
   "cell_type": "markdown",
   "id": "db3824fa",
   "metadata": {},
   "source": [
    "# Normalization\n",
    "In order to train our data we need to normalize it as we have seen the data now contains a grayscale image so it has only 1 channel Gray instead of 3 channel of Red Green Blue (RGB).\n",
    "So the value for each pixel is between 0 to 255. In order to make our model insensative to colors we need to normalise it.\n",
    "\n",
    "Now that we know our data is ranging between 0 to 255 we can try to scale down the range and normalize it using `keras.utils.normalize` function available in `TensorFlow` library which we have imported as `tf`.\n",
    "the `axis=1` property is ensuring normalisation is happening row by row which in our case row or column it doesn't matters as the Matrix is equel in x and y axis (28 x 28).\n",
    "\n",
    "**_NOTE:_** Normalisation will bring all values between 0 and 1 as it is technically deviding every pixel to 255. "
   ]
  },
  {
   "cell_type": "code",
   "execution_count": 7,
   "id": "b3d77b4c",
   "metadata": {},
   "outputs": [],
   "source": [
    "image_train = tf.keras.utils.normalize(image_train, axis=1)\n",
    "image_test = tf.keras.utils.normalize(image_test, axis=1)"
   ]
  },
  {
   "cell_type": "markdown",
   "id": "96458dcc",
   "metadata": {},
   "source": [
    "Now we can see that the color scale \n",
    "\n",
    "|Original Data| Gray Scaled (Binary)| Normalised |\n",
    "|-|-|-|\n",
    "|![colored one](./img/one-color.png \"colored one\")|![gray one](./img/one-gray.png \"gray one\")|![gray normalize one](./img/one-gray-norm.png \"gray normalize one\")|\n",
    "\n",
    "**_NOTE:_** As we will be using a deep learning model we need to have labeled data to explain to the model that for example the above images are one and these labeled data are stored in `label_test` and `label_train`\n",
    "\n",
    "# Preparation for CNN\n",
    "We will first resize the images and we need to increase the data diemention by 1 to create a 3 diementional matrix for kernel(Filter) operation. \n",
    "In python `-1` corresponds to MAX Array Size which in our case is 60000 for train samples and 10000 for test samples."
   ]
  },
  {
   "cell_type": "code",
   "execution_count": 8,
   "id": "f85ae467",
   "metadata": {},
   "outputs": [],
   "source": [
    "import numpy as np\n",
    "IMAGE_SIZE=28\n",
    "image_trainer = np.array(image_train).reshape(-1, IMAGE_SIZE, IMAGE_SIZE, 1)\n",
    "image_tester = np.array(image_test).reshape(-1, IMAGE_SIZE, IMAGE_SIZE, 1)"
   ]
  },
  {
   "cell_type": "markdown",
   "id": "c3325506",
   "metadata": {},
   "source": [
    "# Creating Deep Learning Neural Network\n",
    "We can use Tensorflow library to create sequentially connected deep learning layers such as `Dense`, `Dropout`, `Activation`, `Flatten`, `Conv2D`, `MaxPooling2D`\n",
    "\n",
    "![sequentially connected deep learning layers](./img/deeplearning-layers.jpg \"sequentially connected deep learning layers\")"
   ]
  },
  {
   "cell_type": "code",
   "execution_count": 9,
   "id": "eee55c62",
   "metadata": {},
   "outputs": [],
   "source": [
    "from tensorflow.keras.models import Sequential\n",
    "from tensorflow.keras.layers import Dense, Dropout, Activation, Flatten, Conv2D, MaxPooling2D\n",
    "\n",
    "dnnModel = Sequential()"
   ]
  },
  {
   "cell_type": "markdown",
   "id": "dbf7c151",
   "metadata": {},
   "source": [
    "## Adding the first Convolutional layer\n",
    "We add a 64 different filter which each filter has a 3 x 3 size.\n",
    "So 64 filters will be convoulved in this image data.\n",
    "\n",
    "![first Convolutional layer](./img/first-con-layer.png \"first Convolutional layer\")\n",
    "\n",
    "Then we apply the activation layer to ensure that values less than zero are dropped and values larger than zero passes to next layer.\n",
    "On next layer we add a Max pooling layer which allows only a max value of a 2 x 2 data is passed and rest is droped."
   ]
  },
  {
   "cell_type": "code",
   "execution_count": 10,
   "id": "3eb0f82e",
   "metadata": {},
   "outputs": [],
   "source": [
    "dnnModel.add(Conv2D(64, (3,3), input_shape = image_trainer.shape[1:]))\n",
    "dnnModel.add(Activation(\"relu\"))\n",
    "dnnModel.add(MaxPooling2D(pool_size=(2,2)))"
   ]
  },
  {
   "cell_type": "markdown",
   "id": "d54ffaae",
   "metadata": {},
   "source": [
    "## Adding Second Convolutional layer\n",
    "By adding a new layer we will check the accuracy."
   ]
  },
  {
   "cell_type": "code",
   "execution_count": 11,
   "id": "9a201fdb",
   "metadata": {},
   "outputs": [],
   "source": [
    "dnnModel.add(Conv2D(64, (3,3), input_shape = image_trainer.shape[1:]))\n",
    "dnnModel.add(Activation(\"relu\"))\n",
    "dnnModel.add(MaxPooling2D(pool_size=(2,2)))"
   ]
  },
  {
   "cell_type": "markdown",
   "id": "5d5d7bac",
   "metadata": {},
   "source": [
    "## Adding Third Convolutional layer\n",
    "If we need more accuracy then a third layer is added\n",
    "This is done by Trial and error and comparision of the results"
   ]
  },
  {
   "cell_type": "code",
   "execution_count": 12,
   "id": "94a6c8ea",
   "metadata": {},
   "outputs": [],
   "source": [
    "dnnModel.add(Conv2D(64, (3,3), input_shape = image_trainer.shape[1:]))\n",
    "dnnModel.add(Activation(\"relu\"))\n",
    "dnnModel.add(MaxPooling2D(pool_size=(2,2)))"
   ]
  },
  {
   "cell_type": "markdown",
   "id": "b5f39aa0",
   "metadata": {},
   "source": [
    "## Adding First Fully Connected Layer\n",
    "At this stage we need to flatten the layers and this flatten layer is converted from a 2 dimentional to one dimentional.\n",
    "Similarly a Dense layer is added which is a neural network layer as all neurans are connected.\n",
    "Technically each filter in this architecture are neuron.\n",
    "Finally we add the activation layer.\n",
    "\n",
    "\n",
    "![Fully Connected Layer](./img/fully-connected-layer-cnn.png \"Fully Connected Layer\")\n"
   ]
  },
  {
   "cell_type": "code",
   "execution_count": 13,
   "id": "55b72108",
   "metadata": {},
   "outputs": [],
   "source": [
    "dnnModel.add(Flatten())\n",
    "dnnModel.add(Dense(64))\n",
    "dnnModel.add(Activation(\"relu\"))"
   ]
  },
  {
   "cell_type": "markdown",
   "id": "2dffb306",
   "metadata": {},
   "source": [
    "## Adding Second Fully Connected Layer\n",
    "We need to reduce the size on each stage so by using `Dense(32)` we are redusing the layer size to 32"
   ]
  },
  {
   "cell_type": "code",
   "execution_count": 14,
   "id": "7bd3e1fd",
   "metadata": {},
   "outputs": [],
   "source": [
    "dnnModel.add(Dense(32))\n",
    "dnnModel.add(Activation(\"relu\"))"
   ]
  },
  {
   "cell_type": "markdown",
   "id": "1a71d92e",
   "metadata": {},
   "source": [
    "## Adding Last Fully Connected Layer\n",
    "And our final size is 10 as we want to map each item to a digit from 0 to 9 so we need to dense the layer to 10 at this stage.\n",
    "At this stage we change the activation layer to `softmax` which gives us the class probabilities. "
   ]
  },
  {
   "cell_type": "code",
   "execution_count": 15,
   "id": "0e1ae318",
   "metadata": {},
   "outputs": [],
   "source": [
    "dnnModel.add(Dense(10))\n",
    "dnnModel.add(Activation(\"softmax\"))"
   ]
  },
  {
   "cell_type": "markdown",
   "id": "c617da5f",
   "metadata": {},
   "source": [
    "### Verify the architecure\n",
    "We can use `dnnModel.summary()` method on our model to have a glimpse on the sequentional model which we have created.\n",
    "\n",
    "#### Model: \"sequential\"\n",
    " |Layer (type)  |              Output Shape     |         Param #|   \n",
    "|-|-|-|\n",
    "| conv2d (Conv2D)             | (None, 26, 26, 64)   |     640       |                                                               \n",
    "| activation (Activation)     | (None, 26, 26, 64)   |     0         |                                                               \n",
    "| max_pooling2d (MaxPooling2D)  | (None, 13, 13, 64)   |    0        |                                                               \n",
    "| conv2d_1 (Conv2D)           | (None, 11, 11, 64)   |     36928     |                                                               \n",
    "| activation_1 (Activation)   | (None, 11, 11, 64)   |     0         |                                                               \n",
    "| max_pooling2d_1 (MaxPooling2D)  | (None, 5, 5, 64)     |    0      | \n",
    "| conv2d_2 (Conv2D)           | (None, 3, 3, 64)     |     36928     |                                                               \n",
    "| activation_2 (Activation)   | (None, 3, 3, 64)     |     0         |                                                               \n",
    "| max_pooling2d_2 (MaxPooling2D)  | (None, 1, 1, 64)     |    0      |                                                                 \n",
    "| flatten (Flatten)           | (None, 64)           |     0         |                                                               \n",
    "| dense (Dense)               | (None, 64)           |     4160      |                                                               \n",
    "| activation_3 (Activation)   | (None, 64)           |     0         |                                                               \n",
    "| dense_1 (Dense)             | (None, 32)           |     2080      |                                                               \n",
    "| activation_4 (Activation)   | (None, 32)           |     0         |                                                               \n",
    "| dense_2 (Dense)             | (None, 10)           |     330       |                                                               \n",
    "| activation_5 (Activation)   | (None, 10)           |     0         |                                                               \n",
    "\n",
    "- Total params: 81,066\n",
    "- Trainable params: 81,066\n",
    "- Non-trainable params: 0"
   ]
  },
  {
   "cell_type": "markdown",
   "id": "a8e7d257",
   "metadata": {},
   "source": [
    "# Compiling and Training the Model\n",
    "We compile our model using loss property of `sparse_categorical_crossentropy` with an optimizer of `adam` which is one of the best optimizers.\n",
    "And for metrics we want to focus on `accuracy` \n",
    "\n",
    "We will train the model only for 5 epochs and we can see that we reach to a accuracy of `0.9851` and our validation accuracy is `0.9830` which is very good result and we are not overfitting our model.\n",
    "If incase overfitting would have occured we could have added `Dropout` layers to overcome the issue.\n",
    "\n",
    "| Epoch |  loss | accuracy | val_loss | val_accuracy |\n",
    "|-|-|-|-|-|\n",
    "| 1 | 0.3224|0.8983 | 0.1337|0.9584 |\n",
    "| 2 | 0.1052|0.9682 |0.0900 | 0.9730|\n",
    "| 3 | 0.0748|0.9770 |0.0809 | 0.9761|\n",
    "| 4 | 0.0593| 0.9821| 0.0742| 0.9778|\n",
    "| 5 |0.0471 | 0.9851| 0.0559| 0.9830|\n"
   ]
  },
  {
   "cell_type": "code",
   "execution_count": null,
   "id": "11bd8966",
   "metadata": {},
   "outputs": [],
   "source": [
    "dnnModel.compile(loss= \"sparse_categorical_crossentropy\", optimizer=\"adam\", metrics=['accuracy'])\n",
    "dnnModel.fit(image_trainer, label_train, epochs=5, validation_split= 0.3)"
   ]
  },
  {
   "cell_type": "markdown",
   "id": "1d58a5e9",
   "metadata": {},
   "source": [
    "# Prediction\n",
    "Now that we have trained and tested the model we can try and predict to understand if our model is heading to the right direction.\n",
    "As we have used `Activation(\"softmax\")` on our last layer so now we will have many class probability. \n",
    "the maximum of the class probability will be our prediction ansewer.\n",
    "\n",
    "Now that we have a list of prediction we can check few samples to see if the predicted value and the image are matching.\n",
    "for example we have printed prediction number 22 which is showing a value of 6 and as seen in the image we can see that it is `6`"
   ]
  },
  {
   "cell_type": "code",
   "execution_count": 20,
   "id": "b81f9cfe",
   "metadata": {},
   "outputs": [
    {
     "name": "stdout",
     "output_type": "stream",
     "text": [
      "313/313 [==============================] - 1s 4ms/step\n",
      "6\n"
     ]
    },
    {
     "data": {
      "text/plain": [
       "<matplotlib.image.AxesImage at 0x16c3655e0>"
      ]
     },
     "execution_count": 20,
     "metadata": {},
     "output_type": "execute_result"
    },
    {
     "data": {
      "image/png": "[encoded data removed]",
      "text/plain": [
       "<Figure size 432x288 with 1 Axes>"
      ]
     },
     "metadata": {
      "needs_background": "light"
     },
     "output_type": "display_data"
    }
   ],
   "source": [
    "prediction = dnnModel.predict([image_tester])\n",
    "print (np.argmax(prediction[22]))\n",
    "plot.imshow(image_test[22])"
   ]
  }
 ],
 "metadata": {
  "interpreter": {
   "hash": "b0fa6594d8f4cbf19f97940f81e996739fb7646882a419484c72d19e05852a7e"
  },
  "kernelspec": {
   "display_name": "Python 3.9.12 64-bit",
   "language": "python",
   "name": "python3"
  },
  "language_info": {
   "codemirror_mode": {
    "name": "ipython",
    "version": 3
   },
   "file_extension": ".py",
   "mimetype": "text/x-python",
   "name": "python",
   "nbconvert_exporter": "python",
   "pygments_lexer": "ipython3",
   "version": "3.9.12"
  }
 },
 "nbformat": 4,
 "nbformat_minor": 5
}
