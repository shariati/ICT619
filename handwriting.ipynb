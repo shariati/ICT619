{
 "cells": [
  {
   "cell_type": "code",
   "execution_count": 1,
   "id": "b39ab33a",
   "metadata": {},
   "outputs": [],
   "source": [
    "import tensorflow as tf"
   ]
  },
  {
   "cell_type": "markdown",
   "id": "56f3859d",
   "metadata": {},
   "source": [
    "# Handwritten DIGITalization \n",
    "\n",
    "We used TensorFlow, an open-source software library and ‘MNIST’ data set adapted from\n",
    "Homepage: http://yann.lecun.com/exdb/mnist/\n",
    "\n",
    "| Split | Example |\n",
    "|-|-|\n",
    "|test|10,000|\n",
    "|train|60,000|\n"
   ]
  },
  {
   "cell_type": "code",
   "execution_count": 2,
   "id": "0908ceba",
   "metadata": {},
   "outputs": [],
   "source": [
    "handDigitalizationDataset = tf.keras.datasets.mnist"
   ]
  },
  {
   "cell_type": "markdown",
   "id": "165616e7",
   "metadata": {},
   "source": [
    "The `handDigitalizationDataset` contains data of handwritten characters based on a 28x28 pixels images of 0 to 9 as shown below\n",
    "![28x28 pixels images of 0 to 9](./img/mnist-3.0.1.png \"28x28 pixels images of 0 to 9\")"
   ]
  },
  {
   "cell_type": "markdown",
   "id": "874b8006",
   "metadata": {},
   "source": [
    "# Spliting the Data\n",
    "`handDigitalizationDataset` will be devided to two groups of `test` and `train` data.\n",
    "\n",
    "As we are dealing with a two diementional matrix so we have to create two sets of test and train data for each diemention.\n",
    "for train data we have created `x_axis_train` and `y_axis_train` and for test data `x_axis_test` and `y_axis_test`.\n",
    "\n",
    "**_NOTE:_** Testing should never be part of training data since it will assist us to validate the performance of our neural network design"
   ]
  },
  {
   "cell_type": "code",
   "execution_count": 3,
   "id": "7357f59d",
   "metadata": {},
   "outputs": [],
   "source": [
    "(x_axis_train, y_axis_train), (x_axis_test, y_axis_test) = handDigitalizationDataset.load_data()"
   ]
  },
  {
   "cell_type": "markdown",
   "id": "483c93a7",
   "metadata": {},
   "source": [
    "To verify the data dimension, we may use the `shape` command, which is a tuple that always provides the array's dimensions."
   ]
  },
  {
   "cell_type": "code",
   "execution_count": 4,
   "id": "92020e7a",
   "metadata": {},
   "outputs": [
    {
     "data": {
      "text/plain": [
       "(60000, 28, 28)"
      ]
     },
     "execution_count": 4,
     "metadata": {},
     "output_type": "execute_result"
    }
   ],
   "source": [
    "x_axis_train.shape"
   ]
  },
  {
   "cell_type": "markdown",
   "id": "3ad84e9e",
   "metadata": {},
   "source": [
    "# Loading Image Library\n",
    "To plot the images in the dataset we rely on `matplotlib.pyplot` library."
   ]
  },
  {
   "cell_type": "code",
   "execution_count": null,
   "id": "591e7e52",
   "metadata": {},
   "outputs": [],
   "source": [
    "import matplotlib.pyplot as plot\n",
    "plot.imshow(x_axis_train[0])\n",
    "plot.show()"
   ]
  },
  {
   "cell_type": "markdown",
   "id": "394a6fb5",
   "metadata": {},
   "source": [
    "## The image matrix\n",
    "We can see that the image data in the dataset are consist of colored image \n",
    "\n",
    "![colored one](./img/one-color.png \"colored one\")\n",
    "\n",
    "The data for each image is made of a matrix of 28 x 28 \n",
    "| 0 | 0 | 0 | 0 | 0 | 0 | 0 | 0 | 0 | 0 | 0 | 0 | 0 | 0 | 0 | 0 | 0 | 0 | 0 | 0 | 0 | 0 | 0 | 0 |\n",
    "| - | - | - | - | - | - | - | - | - | - | - | - | - | - | - | - | - | - | - | - | - | - | - | - |\n",
    "| 0 | 0 | 0 | 0 | 0 | 0 | 0 | 0 | 0 | 0 | 1 | 1 | 0 | 0 | 0 | 0 | 0 | 0 | 0 | 0 | 0 | 0 | 0 | 0 |\n",
    "| 0 | 0 | 0 | 0 | 0 | 0 | 0 | 0 | 0 | 0 | 1 | 1 | 0 | 0 | 0 | 0 | 0 | 0 | 0 | 0 | 0 | 0 | 0 | 0 |\n",
    "| 0 | 0 | 0 | 0 | 0 | 0 | 0 | 0 | 0 | 1 | 1 | 0 | 0 | 0 | 0 | 0 | 0 | 0 | 0 | 0 | 0 | 0 | 0 | 0 |\n",
    "| 0 | 0 | 0 | 0 | 0 | 0 | 0 | 0 | 0 | 1 | 1 | 0 | 0 | 0 | 0 | 0 | 0 | 0 | 0 | 0 | 0 | 0 | 0 | 0 |\n",
    "| 0 | 0 | 0 | 0 | 0 | 0 | 0 | 0 | 0 | 1 | 1 | 0 | 0 | 0 | 0 | 0 | 0 | 0 | 0 | 0 | 0 | 0 | 0 | 0 |\n",
    "| 0 | 0 | 0 | 0 | 0 | 0 | 0 | 0 | 0 | 1 | 1 | 0 | 0 | 0 | 0 | 0 | 0 | 0 | 0 | 0 | 0 | 0 | 0 | 0 |\n",
    "| 0 | 0 | 0 | 0 | 0 | 0 | 0 | 0 | 1 | 1 | 0 | 0 | 0 | 0 | 0 | 0 | 0 | 0 | 0 | 0 | 0 | 0 | 0 | 0 |\n",
    "| 0 | 0 | 0 | 0 | 0 | 0 | 0 | 0 | 1 | 1 | 0 | 0 | 0 | 0 | 0 | 0 | 0 | 0 | 0 | 0 | 0 | 0 | 0 | 0 |\n",
    "| 0 | 0 | 0 | 0 | 0 | 0 | 0 | 0 | 1 | 1 | 0 | 0 | 0 | 0 | 0 | 0 | 0 | 0 | 0 | 0 | 0 | 0 | 0 | 0 |\n",
    "| 0 | 0 | 0 | 0 | 0 | 0 | 0 | 0 | 1 | 1 | 0 | 0 | 0 | 0 | 0 | 0 | 0 | 0 | 0 | 0 | 0 | 0 | 0 | 0 |\n",
    "| 0 | 0 | 0 | 0 | 0 | 0 | 0 | 0 | 1 | 1 | 0 | 0 | 0 | 0 | 0 | 0 | 0 | 0 | 0 | 0 | 0 | 0 | 0 | 0 |\n",
    "| 0 | 0 | 0 | 0 | 0 | 0 | 0 | 0 | 1 | 1 | 0 | 0 | 0 | 0 | 0 | 0 | 0 | 0 | 0 | 0 | 0 | 0 | 0 | 0 |\n",
    "| 0 | 0 | 0 | 0 | 0 | 0 | 0 | 0 | 1 | 1 | 0 | 0 | 0 | 0 | 0 | 0 | 0 | 0 | 0 | 0 | 0 | 0 | 0 | 0 |\n",
    "| 0 | 0 | 0 | 0 | 0 | 0 | 0 | 0 | 1 | 1 | 0 | 0 | 0 | 0 | 0 | 0 | 0 | 0 | 0 | 0 | 0 | 0 | 0 | 0 |\n",
    "| 0 | 0 | 0 | 0 | 0 | 0 | 0 | 0 | 1 | 1 | 0 | 0 | 0 | 0 | 0 | 0 | 0 | 0 | 0 | 0 | 0 | 0 | 0 | 0 |\n",
    "| 0 | 0 | 0 | 0 | 0 | 0 | 0 | 0 | 1 | 1 | 0 | 0 | 0 | 0 | 0 | 0 | 0 | 0 | 0 | 0 | 0 | 0 | 0 | 0 |\n",
    "| 0 | 0 | 0 | 0 | 0 | 0 | 0 | 0 | 1 | 0 | 0 | 0 | 0 | 0 | 0 | 0 | 0 | 0 | 0 | 0 | 0 | 0 | 0 | 0 |\n",
    "| 0 | 0 | 0 | 0 | 0 | 0 | 0 | 1 | 1 | 0 | 0 | 0 | 0 | 0 | 0 | 0 | 0 | 0 | 0 | 0 | 0 | 0 | 0 | 0 |\n",
    "| 0 | 0 | 0 | 0 | 0 | 0 | 0 | 1 | 1 | 0 | 0 | 0 | 0 | 0 | 0 | 0 | 0 | 0 | 0 | 0 | 0 | 0 | 0 | 0 |\n",
    "| 0 | 0 | 0 | 0 | 0 | 0 | 0 | 1 | 1 | 0 | 0 | 0 | 0 | 0 | 0 | 0 | 0 | 0 | 0 | 0 | 0 | 0 | 0 | 0 |\n",
    "| 0 | 0 | 0 | 0 | 0 | 0 | 0 | 1 | 1 | 0 | 0 | 0 | 0 | 0 | 0 | 0 | 0 | 0 | 0 | 0 | 0 | 0 | 0 | 0 |\n",
    "| 0 | 0 | 0 | 0 | 0 | 0 | 0 | 1 | 1 | 0 | 0 | 0 | 0 | 0 | 0 | 0 | 0 | 0 | 0 | 0 | 0 | 0 | 0 | 0 |\n",
    "| 0 | 0 | 0 | 0 | 0 | 0 | 0 | 1 | 1 | 0 | 0 | 0 | 0 | 0 | 0 | 0 | 0 | 0 | 0 | 0 | 0 | 0 | 0 | 0 |\n",
    "| 0 | 0 | 0 | 0 | 0 | 0 | 0 | 1 | 1 | 0 | 0 | 0 | 0 | 0 | 0 | 0 | 0 | 0 | 0 | 0 | 0 | 0 | 0 | 0 |\n",
    "| 0 | 0 | 0 | 0 | 0 | 0 | 0 | 1 | 1 | 0 | 0 | 0 | 0 | 0 | 0 | 0 | 0 | 0 | 0 | 0 | 0 | 0 | 0 | 0 |\n",
    "| 0 | 0 | 0 | 0 | 0 | 0 | 0 | 0 | 0 | 0 | 0 | 0 | 0 | 0 | 0 | 0 | 0 | 0 | 0 | 0 | 0 | 0 | 0 | 0 |\n",
    "| 0 | 0 | 0 | 0 | 0 | 0 | 0 | 0 | 0 | 0 | 0 | 0 | 0 | 0 | 0 | 0 | 0 | 0 | 0 | 0 | 0 | 0 | 0 | 0 |\n",
    "\n",
    "so as shown above we have an X and Y rows and columns with data of 0 to 255 in it.\n",
    "Now to achieve such data we must ensure that the image is in binary color (Black and White)\n",
    "this can be achieved using the `cmap= plot.cm.binary` property in `imshow` method.\n",
    "\n",
    "**_NOTE:_** `cm.binary` inverses the color so all black pixels are changed to white and vice versa.\n",
    "\n",
    "![gray one](./img/one-gray.png \"gray one\")\n"
   ]
  },
  {
   "cell_type": "code",
   "execution_count": null,
   "id": "fa756f28",
   "metadata": {},
   "outputs": [],
   "source": [
    "plot.imshow(x_axis_train[0], cmap= plot.cm.binary)"
   ]
  },
  {
   "cell_type": "markdown",
   "id": "b4f8a6d4",
   "metadata": {},
   "source": [
    "# Read pixel data\n",
    "Now we need to check the value of each pixel in the matrix the closer it is to 255 it will be white and the closer to 0 it will be black"
   ]
  },
  {
   "cell_type": "code",
   "execution_count": null,
   "id": "e1887450",
   "metadata": {},
   "outputs": [],
   "source": [
    "print (x_axis_train[3])"
   ]
  },
  {
   "cell_type": "markdown",
   "id": "f9a212af",
   "metadata": {},
   "source": [
    "By looking at `print` result we can see that some pixels are white (255), some are black (0) and some are gray \n",
    "| 0 | 0 | 0 | 0 | 0 | 0 | 0 | 0 | 0 | 0 | 0 | 0 | 0 | 0 | 0 | 0 | 0 | 0 | 0 | 0 | 0 | 0 | 0 | 0 |\n",
    "| - | - | - | - | - | - | - | - | - | - | - | - | - | - | - | - | - | - | - | - | - | - | - | - |\n",
    "|0|0|0|0|0|0|0|0|0|0|0|0|0|0|0|0|0|0|0|0|0|0|0|0|0|0|0|0|\n",
    "|0|0|0|0|0|0|0|0|0|0|0|0|0|0|0|0|0|0|0|0|0|0|0|0|0|0|0|0|\n",
    "|0|0|0|0|0|0|0|0|0|0|0|0|0|0|0|0|0|0|0|0|0|0|0|0|0|0|0|0|\n",
    "|0|0|0|0|0|0|0|0|0|0|0|0|0|0|0|0|0|0|0|0|0|0|0|0|0|0|0|0|\n",
    "|0|0|0|0|0|0|0|0|0|0|0|0|0|0|0|0|0|0|124|253|255|63|0|0|0|0|0|0|\n",
    "|0|0|0|0|0|0|0|0|0|0|0|0|0|0|0|0|0|96|244|251|253|62|0|0|0|0|0|0|\n",
    "|0|0|0|0|0|0|0|0|0|0|0|0|0|0|0|0|0|127|251|251|253|62|0|0|0|0|0|0|\n",
    "|0|0|0|0|0|0|0|0|0|0|0|0|0|0|0|0|68|236|251|211|31|8|0|0|0|0|0|0|\n",
    "|0|0|0|0|0|0|0|0|0|0|0|0|0|0|0|60|228|251|251|94|0|0|0|0|0|0|0|0|\n",
    "|0|0|0|0|0|0|0|0|0|0|0|0|0|0|0|155|253|253|189|0|0|0|0|0|0|0|0|0|\n",
    "|0|0|0|0|0|0|0|0|0|0|0|0|0|0|20|253|251|235|66|0|0|0|0|0|0|0|0|0|\n",
    "|0|0|0|0|0|0|0|0|0|0|0|0|0|32|205|253|251|126|0|0|0|0|0|0|0|0|0|0|\n",
    "|0|0|0|0|0|0|0|0|0|0|0|0|0|104|251|253|184|15|0|0|0|0|0|0|0|0|0|0|\n",
    "|0|0|0|0|0|0|0|0|0|0|0|0|80|240|251|193|23|0|0|0|0|0|0|0|0|0|0|0|\n",
    "|0|0|0|0|0|0|0|0|0|0|0|32|253|253|253|159|0|0|0|0|0|0|0|0|0|0|0|0|\n",
    "|0|0|0|0|0|0|0|0|0|0|0|151|251|251|251|39|0|0|0|0|0|0|0|0|0|0|0|0|\n",
    "|0|0|0|0|0|0|0|0|0|0|48|221|251|251|172|0|0|0|0|0|0|0|0|0|0|0|0|0|\n",
    "|0|0|0|0|0|0|0|0|0|0|234|251|251|196|12|0|0|0|0|0|0|0|0|0|0|0|0|0|\n",
    "|0|0|0|0|0|0|0|0|0|0|253|251|251|89|0|0|0|0|0|0|0|0|0|0|0|0|0|0|\n",
    "|0|0|0|0|0|0|0|0|0|159|255|253|253|31|0|0|0|0|0|0|0|0|0|0|0|0|0|0|\n",
    "|0|0|0|0|0|0|0|0|48|228|253|247|140|8|0|0|0|0|0|0|0|0|0|0|0|0|0|0|\n",
    "|0|0|0|0|0|0|0|0|64|251|253|220|0|0|0|0|0|0|0|0|0|0|0|0|0|0|0|0|\n",
    "|0|0|0|0|0|0|0|0|64|251|253|220|0|0|0|0|0|0|0|0|0|0|0|0|0|0|0|0|\n",
    "|0|0|0|0|0|0|0|0|24|193|253|220|0|0|0|0|0|0|0|0|0|0|0|0|0|0|0|0|\n",
    "|0|0|0|0|0|0|0|0|0|0|0|0|0|0|0|0|0|0|0|0|0|0|0|0|0|0|0|0|\n",
    "|0|0|0|0|0|0|0|0|0|0|0|0|0|0|0|0|0|0|0|0|0|0|0|0|0|0|0|0|\n",
    "|0|0|0|0|0|0|0|0|0|0|0|0|0|0|0|0|0|0|0|0|0|0|0|0|0|0|0|0|"
   ]
  }
 ],
 "metadata": {
  "interpreter": {
   "hash": "b0fa6594d8f4cbf19f97940f81e996739fb7646882a419484c72d19e05852a7e"
  },
  "kernelspec": {
   "display_name": "Python 3.9.12 64-bit",
   "language": "python",
   "name": "python3"
  },
  "language_info": {
   "codemirror_mode": {
    "name": "ipython",
    "version": 3
   },
   "file_extension": ".py",
   "mimetype": "text/x-python",
   "name": "python",
   "nbconvert_exporter": "python",
   "pygments_lexer": "ipython3",
   "version": "3.9.12"
  }
 },
 "nbformat": 4,
 "nbformat_minor": 5
}
